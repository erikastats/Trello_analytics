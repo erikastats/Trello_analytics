{
 "cells": [
  {
   "cell_type": "code",
   "execution_count": 1,
   "id": "02e8c1b1",
   "metadata": {},
   "outputs": [],
   "source": [
    "import pandas as pd\n",
    "import numpy as np\n",
    "from langdetect import detect\n",
    "import re \n",
    "import nltk\n",
    "from nltk.corpus import stopwords\n",
    "import unicodedata\n",
    "from rapidfuzz import process, fuzz\n",
    "from sklearn.feature_extraction.text import TfidfVectorizer\n",
    "from sklearn.feature_extraction.text import CountVectorizer\n",
    "import requests\n",
    "import json\n",
    "import fitz\n",
    "from tqdm import tqdm"
   ]
  },
  {
   "cell_type": "code",
   "execution_count": 2,
   "id": "2023a58e",
   "metadata": {},
   "outputs": [
    {
     "data": {
      "text/html": [
       "<div>\n",
       "<style scoped>\n",
       "    .dataframe tbody tr th:only-of-type {\n",
       "        vertical-align: middle;\n",
       "    }\n",
       "\n",
       "    .dataframe tbody tr th {\n",
       "        vertical-align: top;\n",
       "    }\n",
       "\n",
       "    .dataframe thead th {\n",
       "        text-align: right;\n",
       "    }\n",
       "</style>\n",
       "<table border=\"1\" class=\"dataframe\">\n",
       "  <thead>\n",
       "    <tr style=\"text-align: right;\">\n",
       "      <th></th>\n",
       "      <th>id</th>\n",
       "      <th>dateLastActivity</th>\n",
       "      <th>desc</th>\n",
       "      <th>due</th>\n",
       "      <th>name</th>\n",
       "      <th>label_names</th>\n",
       "    </tr>\n",
       "  </thead>\n",
       "  <tbody>\n",
       "    <tr>\n",
       "      <th>0</th>\n",
       "      <td>684c1005b986bba107a1917a</td>\n",
       "      <td>2025-06-13T11:48:36.998Z</td>\n",
       "      <td>about the job job description o time de analy...</td>\n",
       "      <td>2025-07-25T11:44:00.000Z</td>\n",
       "      <td>Cientista de Dados Pleno - Porto - LinkedIn</td>\n",
       "      <td>['Enviado']</td>\n",
       "    </tr>\n",
       "    <tr>\n",
       "      <th>1</th>\n",
       "      <td>684c138a5be4f9abe78529e7</td>\n",
       "      <td>2025-06-13T12:03:36.307Z</td>\n",
       "      <td>about the job deseja construir um futuro sóli...</td>\n",
       "      <td>2025-07-25T11:44:00.000Z</td>\n",
       "      <td>Analist ade Dados - Cargill - LinkedIn</td>\n",
       "      <td>['Enviado']</td>\n",
       "    </tr>\n",
       "  </tbody>\n",
       "</table>\n",
       "</div>"
      ],
      "text/plain": [
       "                         id          dateLastActivity  \\\n",
       "0  684c1005b986bba107a1917a  2025-06-13T11:48:36.998Z   \n",
       "1  684c138a5be4f9abe78529e7  2025-06-13T12:03:36.307Z   \n",
       "\n",
       "                                                desc  \\\n",
       "0   about the job job description o time de analy...   \n",
       "1   about the job deseja construir um futuro sóli...   \n",
       "\n",
       "                        due                                         name  \\\n",
       "0  2025-07-25T11:44:00.000Z  Cientista de Dados Pleno - Porto - LinkedIn   \n",
       "1  2025-07-25T11:44:00.000Z       Analist ade Dados - Cargill - LinkedIn   \n",
       "\n",
       "   label_names  \n",
       "0  ['Enviado']  \n",
       "1  ['Enviado']  "
      ]
     },
     "execution_count": 2,
     "metadata": {},
     "output_type": "execute_result"
    }
   ],
   "source": [
    "# Importing data \n",
    "cards = pd.read_csv('cards_trello.csv')\n",
    "cards.head(2)"
   ]
  },
  {
   "cell_type": "markdown",
   "id": "a049c187",
   "metadata": {},
   "source": [
    "Preprocessing data "
   ]
  },
  {
   "cell_type": "code",
   "execution_count": 3,
   "id": "13fd3ca8",
   "metadata": {},
   "outputs": [],
   "source": [
    "cards['desc_lang'] = [detect(str(x)) for x in cards['desc']]"
   ]
  },
  {
   "cell_type": "code",
   "execution_count": 4,
   "id": "a65f49bd",
   "metadata": {},
   "outputs": [
    {
     "data": {
      "text/html": [
       "<div>\n",
       "<style scoped>\n",
       "    .dataframe tbody tr th:only-of-type {\n",
       "        vertical-align: middle;\n",
       "    }\n",
       "\n",
       "    .dataframe tbody tr th {\n",
       "        vertical-align: top;\n",
       "    }\n",
       "\n",
       "    .dataframe thead th {\n",
       "        text-align: right;\n",
       "    }\n",
       "</style>\n",
       "<table border=\"1\" class=\"dataframe\">\n",
       "  <thead>\n",
       "    <tr style=\"text-align: right;\">\n",
       "      <th></th>\n",
       "      <th>id</th>\n",
       "      <th>dateLastActivity</th>\n",
       "      <th>desc</th>\n",
       "      <th>due</th>\n",
       "      <th>name</th>\n",
       "      <th>label_names</th>\n",
       "      <th>desc_lang</th>\n",
       "    </tr>\n",
       "  </thead>\n",
       "  <tbody>\n",
       "    <tr>\n",
       "      <th>0</th>\n",
       "      <td>684c1005b986bba107a1917a</td>\n",
       "      <td>2025-06-13T11:48:36.998Z</td>\n",
       "      <td>about the job job description o time de analy...</td>\n",
       "      <td>2025-07-25T11:44:00.000Z</td>\n",
       "      <td>Cientista de Dados Pleno - Porto - LinkedIn</td>\n",
       "      <td>['Enviado']</td>\n",
       "      <td>pt</td>\n",
       "    </tr>\n",
       "    <tr>\n",
       "      <th>1</th>\n",
       "      <td>684c138a5be4f9abe78529e7</td>\n",
       "      <td>2025-06-13T12:03:36.307Z</td>\n",
       "      <td>about the job deseja construir um futuro sóli...</td>\n",
       "      <td>2025-07-25T11:44:00.000Z</td>\n",
       "      <td>Analist ade Dados - Cargill - LinkedIn</td>\n",
       "      <td>['Enviado']</td>\n",
       "      <td>pt</td>\n",
       "    </tr>\n",
       "  </tbody>\n",
       "</table>\n",
       "</div>"
      ],
      "text/plain": [
       "                         id          dateLastActivity  \\\n",
       "0  684c1005b986bba107a1917a  2025-06-13T11:48:36.998Z   \n",
       "1  684c138a5be4f9abe78529e7  2025-06-13T12:03:36.307Z   \n",
       "\n",
       "                                                desc  \\\n",
       "0   about the job job description o time de analy...   \n",
       "1   about the job deseja construir um futuro sóli...   \n",
       "\n",
       "                        due                                         name  \\\n",
       "0  2025-07-25T11:44:00.000Z  Cientista de Dados Pleno - Porto - LinkedIn   \n",
       "1  2025-07-25T11:44:00.000Z       Analist ade Dados - Cargill - LinkedIn   \n",
       "\n",
       "   label_names desc_lang  \n",
       "0  ['Enviado']        pt  \n",
       "1  ['Enviado']        pt  "
      ]
     },
     "execution_count": 4,
     "metadata": {},
     "output_type": "execute_result"
    }
   ],
   "source": [
    "cards.head(2)"
   ]
  },
  {
   "cell_type": "code",
   "execution_count": 5,
   "id": "19fbe845",
   "metadata": {},
   "outputs": [
    {
     "data": {
      "text/plain": [
       "desc_lang\n",
       "pt    225\n",
       "en     93\n",
       "tl      4\n",
       "es      1\n",
       "Name: count, dtype: int64"
      ]
     },
     "execution_count": 5,
     "metadata": {},
     "output_type": "execute_result"
    }
   ],
   "source": [
    "cards['desc_lang'].value_counts()"
   ]
  },
  {
   "cell_type": "code",
   "execution_count": 6,
   "id": "c248ad7d",
   "metadata": {},
   "outputs": [],
   "source": [
    "replace_values = {'pt' : 'portuguese', 'en' : 'english', 'tl' : 'portuguese', 'es': 'spanish'}\n",
    "\n",
    "cards['desc_lang'] = cards['desc_lang'].replace(replace_values)"
   ]
  },
  {
   "cell_type": "code",
   "execution_count": 7,
   "id": "e0169186",
   "metadata": {},
   "outputs": [],
   "source": [
    "def substituir_sinonimos(texto):\n",
    "    texto = texto.lower()\n",
    "    texto = texto.replace('business intelligence', 'bi')\n",
    "    texto = texto.replace('inteligência de negócios', 'bi')\n",
    "    return texto\n",
    "\n",
    "def cleaning_soft(text):\n",
    "\n",
    "    text = str(text)\n",
    "    text = text.lower()\n",
    "    text = re.sub(r'[^\\w\\s-]', '', text)\n",
    "    text = unicodedata.normalize('NFD', text)\n",
    "    text = re.sub(r'[\\u0300-\\u036f]', '', text)\n",
    "    text = re.sub(r'\\s+', ' ', text)\n",
    "    text = substituir_sinonimos(text)\n",
    "\n",
    "    return text.strip()\n",
    "\n",
    "\n",
    "\n",
    "def cleaning_text(text, lang):\n",
    "    stopwords_lang = set(stopwords.words(lang))\n",
    "\n",
    "    text = cleaning_soft(text)\n",
    "    text = re.sub(r'\\d+', '', text)\n",
    "    text = re.sub(r'[^\\w\\s]', '', text)\n",
    "    text = re.sub('about the job', '', text)\n",
    "    text = re.sub('job description', '', text)\n",
    "    text = re.sub(r'\\s+', ' ', text).strip()\n",
    "    words = text.split()\n",
    "    words = [p for p in words if p not in stopwords_lang]\n",
    "\n",
    "    return ' '.join(words)\n",
    "\n"
   ]
  },
  {
   "cell_type": "code",
   "execution_count": 8,
   "id": "7541b75c",
   "metadata": {},
   "outputs": [],
   "source": [
    "cards['desc_clean'] = [cleaning_text(text, lang) for text, lang in zip(cards['desc'], cards['desc_lang'])]"
   ]
  },
  {
   "cell_type": "code",
   "execution_count": 9,
   "id": "db63e0f1",
   "metadata": {},
   "outputs": [],
   "source": [
    "cards['name_clean'] = [cleaning_soft(text) for text in cards['name']]\n"
   ]
  },
  {
   "cell_type": "code",
   "execution_count": 10,
   "id": "f0383640",
   "metadata": {},
   "outputs": [
    {
     "data": {
      "text/html": [
       "<div>\n",
       "<style scoped>\n",
       "    .dataframe tbody tr th:only-of-type {\n",
       "        vertical-align: middle;\n",
       "    }\n",
       "\n",
       "    .dataframe tbody tr th {\n",
       "        vertical-align: top;\n",
       "    }\n",
       "\n",
       "    .dataframe thead th {\n",
       "        text-align: right;\n",
       "    }\n",
       "</style>\n",
       "<table border=\"1\" class=\"dataframe\">\n",
       "  <thead>\n",
       "    <tr style=\"text-align: right;\">\n",
       "      <th></th>\n",
       "      <th>id</th>\n",
       "      <th>dateLastActivity</th>\n",
       "      <th>desc</th>\n",
       "      <th>due</th>\n",
       "      <th>name</th>\n",
       "      <th>label_names</th>\n",
       "      <th>desc_lang</th>\n",
       "      <th>desc_clean</th>\n",
       "      <th>name_clean</th>\n",
       "      <th>vaga</th>\n",
       "      <th>empresa</th>\n",
       "      <th>fonte</th>\n",
       "    </tr>\n",
       "  </thead>\n",
       "  <tbody>\n",
       "    <tr>\n",
       "      <th>0</th>\n",
       "      <td>684c1005b986bba107a1917a</td>\n",
       "      <td>2025-06-13T11:48:36.998Z</td>\n",
       "      <td>about the job job description o time de analy...</td>\n",
       "      <td>2025-07-25T11:44:00.000Z</td>\n",
       "      <td>Cientista de Dados Pleno - Porto - LinkedIn</td>\n",
       "      <td>['Enviado']</td>\n",
       "      <td>portuguese</td>\n",
       "      <td>time analytics insights busca profissional hab...</td>\n",
       "      <td>cientista de dados pleno - porto - linkedin</td>\n",
       "      <td>cientista de dados</td>\n",
       "      <td>porto</td>\n",
       "      <td>linkedin</td>\n",
       "    </tr>\n",
       "    <tr>\n",
       "      <th>1</th>\n",
       "      <td>684c138a5be4f9abe78529e7</td>\n",
       "      <td>2025-06-13T12:03:36.307Z</td>\n",
       "      <td>about the job deseja construir um futuro sóli...</td>\n",
       "      <td>2025-07-25T11:44:00.000Z</td>\n",
       "      <td>Analist ade Dados - Cargill - LinkedIn</td>\n",
       "      <td>['Enviado']</td>\n",
       "      <td>portuguese</td>\n",
       "      <td>deseja construir futuro solido sustentavel des...</td>\n",
       "      <td>analist ade dados - cargill - linkedin</td>\n",
       "      <td>analist ade dados</td>\n",
       "      <td>cargill</td>\n",
       "      <td>linkedin</td>\n",
       "    </tr>\n",
       "  </tbody>\n",
       "</table>\n",
       "</div>"
      ],
      "text/plain": [
       "                         id          dateLastActivity  \\\n",
       "0  684c1005b986bba107a1917a  2025-06-13T11:48:36.998Z   \n",
       "1  684c138a5be4f9abe78529e7  2025-06-13T12:03:36.307Z   \n",
       "\n",
       "                                                desc  \\\n",
       "0   about the job job description o time de analy...   \n",
       "1   about the job deseja construir um futuro sóli...   \n",
       "\n",
       "                        due                                         name  \\\n",
       "0  2025-07-25T11:44:00.000Z  Cientista de Dados Pleno - Porto - LinkedIn   \n",
       "1  2025-07-25T11:44:00.000Z       Analist ade Dados - Cargill - LinkedIn   \n",
       "\n",
       "   label_names   desc_lang                                         desc_clean  \\\n",
       "0  ['Enviado']  portuguese  time analytics insights busca profissional hab...   \n",
       "1  ['Enviado']  portuguese  deseja construir futuro solido sustentavel des...   \n",
       "\n",
       "                                    name_clean                vaga    empresa  \\\n",
       "0  cientista de dados pleno - porto - linkedin  cientista de dados     porto    \n",
       "1       analist ade dados - cargill - linkedin   analist ade dados   cargill    \n",
       "\n",
       "       fonte  \n",
       "0   linkedin  \n",
       "1   linkedin  "
      ]
     },
     "execution_count": 10,
     "metadata": {},
     "output_type": "execute_result"
    }
   ],
   "source": [
    "cards[['vaga', 'empresa', 'fonte']] = cards['name_clean'].str.split('-', n = 2, expand= True)\n",
    "cards['vaga'] = [re.sub(r'\\b(junior|pleno|pl|senior|jr)\\b', '', text, flags=re.IGNORECASE) for text in cards['vaga']]\n",
    "cards['vaga'] = cards['vaga'].apply(cleaning_soft)\n",
    "cards.head(2)"
   ]
  },
  {
   "cell_type": "code",
   "execution_count": 11,
   "id": "c101b73b",
   "metadata": {},
   "outputs": [],
   "source": [
    "vagas_padrao = ['analista de dados', 'cientista de dados', 'analista de bi', 'data analyst',\n",
    "                'data scientist', 'bi analyst', 'product analyst', 'analista atuarial', 'estatistico', 'especialista bi']\n",
    "\n",
    "replace_names = {\n",
    "    'data scientist': 'cientista de dados',\n",
    "    'data analyst': 'analista de dados',\n",
    "    'bi analyst': 'analista de bi',\n",
    "    'especialista bi': 'analista de bi',\n",
    "    'trainee engenheiro de dta analytics ai': 'engenheiro de dados'\n",
    "}"
   ]
  },
  {
   "cell_type": "code",
   "execution_count": 12,
   "id": "113f38ab",
   "metadata": {},
   "outputs": [],
   "source": [
    "\n",
    "# Fallback: verifica se todos os tokens da vaga padrão estão presentes na vaga suja\n",
    "def fallback_match(vaga_suja, lista_padrao):\n",
    "    vaga_tokens = set(vaga_suja.lower().split())\n",
    "    for vaga_padrao in lista_padrao:\n",
    "        tokens_padrao = set(vaga_padrao.lower().split())\n",
    "        if tokens_padrao.issubset(vaga_tokens):\n",
    "            return vaga_padrao\n",
    "    return None\n",
    "\n",
    "# Função principal\n",
    "def padronizar_vaga(vaga_suja, lista_padrao,replace_names,  limiar=70):\n",
    "    vaga_original = vaga_suja  # guardar original caso nada funcione\n",
    "    vaga_suja  = str(vaga_suja)\n",
    "    vaga_suja = re.sub('data science', 'data scientist', vaga_suja)\n",
    "    vaga_suja = vaga_suja.lower().strip()\n",
    "\n",
    "    # 1. Fuzzy matching\n",
    "    match, score, _ = process.extractOne(\n",
    "        vaga_suja,\n",
    "        lista_padrao,\n",
    "        scorer=fuzz.token_set_ratio\n",
    "    )\n",
    "    if score >= limiar:\n",
    "        resultado = match\n",
    "    else:\n",
    "        # 2. Verificação por inclusão de tokens\n",
    "        match_fallback = fallback_match(vaga_suja, lista_padrao)\n",
    "        resultado = match_fallback if match_fallback else vaga_suja\n",
    "\n",
    "    # 3. Correções finais com replace_names\n",
    "    for termo, substituto in replace_names.items():\n",
    "        if termo in resultado:\n",
    "            resultado = resultado.replace(termo, substituto)\n",
    "\n",
    "    return resultado\n"
   ]
  },
  {
   "cell_type": "code",
   "execution_count": 13,
   "id": "6228c13b",
   "metadata": {},
   "outputs": [],
   "source": [
    "cards['vaga_standard'] =  [padronizar_vaga(vaga_suja, vagas_padrao, replace_names) for vaga_suja in cards['vaga'] ]"
   ]
  },
  {
   "cell_type": "code",
   "execution_count": 14,
   "id": "3fd6985c",
   "metadata": {},
   "outputs": [
    {
     "data": {
      "text/plain": [
       "array(['cientista de dados', 'analista de dados', 'fbs', 'analista de bi',\n",
       "       'product analyst', 'oracle technical ai', 'analista atuarial',\n",
       "       'alin', 'r programming expert contractor', 'estatistico',\n",
       "       'engenheiro de dados'], dtype=object)"
      ]
     },
     "execution_count": 14,
     "metadata": {},
     "output_type": "execute_result"
    }
   ],
   "source": [
    "cards['vaga_standard'].drop_duplicates().values"
   ]
  },
  {
   "cell_type": "code",
   "execution_count": 15,
   "id": "c22d1bc7",
   "metadata": {},
   "outputs": [],
   "source": [
    "fonte_padrao = ['linkedin', 'indeed', 'vagas', 'catho', 'glassdoor', 'infojobs']\n",
    "replace_fonte = {'mercado livre' : 'mercado livre'}"
   ]
  },
  {
   "cell_type": "code",
   "execution_count": 16,
   "id": "ba899e48",
   "metadata": {},
   "outputs": [],
   "source": [
    "cards['fonte_standard'] = [padronizar_vaga(fonte_suja, fonte_padrao, replace_fonte) for fonte_suja in cards['fonte']]"
   ]
  },
  {
   "cell_type": "code",
   "execution_count": 17,
   "id": "9a1308c9",
   "metadata": {},
   "outputs": [
    {
     "data": {
      "text/plain": [
       "fonte_standard\n",
       "linkedin           222\n",
       "indeed              42\n",
       "catho               25\n",
       "none                 9\n",
       "glassdoor            6\n",
       "hiring cafe          5\n",
       "infojobs             4\n",
       "trabalha brasil      3\n",
       "vagas                2\n",
       "bairesdev site       1\n",
       "whatsapp             1\n",
       "team                 1\n",
       "mercado livre        1\n",
       "braintrust           1\n",
       "Name: count, dtype: int64"
      ]
     },
     "execution_count": 17,
     "metadata": {},
     "output_type": "execute_result"
    }
   ],
   "source": [
    "cards['fonte_standard'].value_counts()"
   ]
  },
  {
   "cell_type": "markdown",
   "id": "a24c54ba",
   "metadata": {},
   "source": [
    "Using TF-IDF to get word frequencies"
   ]
  },
  {
   "cell_type": "code",
   "execution_count": 18,
   "id": "52e24d82",
   "metadata": {},
   "outputs": [],
   "source": [
    "# Cleaning desc \n",
    "\n"
   ]
  },
  {
   "cell_type": "code",
   "execution_count": 19,
   "id": "1e7dd755",
   "metadata": {},
   "outputs": [],
   "source": [
    "corpus = cards['desc_clean'].dropna()\n",
    "\n",
    "vectorizer = TfidfVectorizer()\n",
    "X = vectorizer.fit_transform(corpus)\n",
    "\n",
    "palavras = vectorizer.get_feature_names_out()\n",
    "pesos = X.toarray().sum(axis = 0)\n",
    "\n",
    "desc_pesos = pd.DataFrame({'palavra': palavras, 'peso_tfidf': pesos}).sort_values('peso_tfidf', ascending=False)"
   ]
  },
  {
   "cell_type": "code",
   "execution_count": 20,
   "id": "cca98fab",
   "metadata": {},
   "outputs": [
    {
     "data": {
      "text/html": [
       "<div>\n",
       "<style scoped>\n",
       "    .dataframe tbody tr th:only-of-type {\n",
       "        vertical-align: middle;\n",
       "    }\n",
       "\n",
       "    .dataframe tbody tr th {\n",
       "        vertical-align: top;\n",
       "    }\n",
       "\n",
       "    .dataframe thead th {\n",
       "        text-align: right;\n",
       "    }\n",
       "</style>\n",
       "<table border=\"1\" class=\"dataframe\">\n",
       "  <thead>\n",
       "    <tr style=\"text-align: right;\">\n",
       "      <th></th>\n",
       "      <th>palavra</th>\n",
       "      <th>peso_tfidf</th>\n",
       "    </tr>\n",
       "  </thead>\n",
       "  <tbody>\n",
       "    <tr>\n",
       "      <th>2803</th>\n",
       "      <td>dados</td>\n",
       "      <td>35.082074</td>\n",
       "    </tr>\n",
       "    <tr>\n",
       "      <th>2834</th>\n",
       "      <td>data</td>\n",
       "      <td>19.776989</td>\n",
       "    </tr>\n",
       "    <tr>\n",
       "      <th>4234</th>\n",
       "      <td>experiencia</td>\n",
       "      <td>12.376740</td>\n",
       "    </tr>\n",
       "    <tr>\n",
       "      <th>2263</th>\n",
       "      <td>conhecimento</td>\n",
       "      <td>9.824690</td>\n",
       "    </tr>\n",
       "    <tr>\n",
       "      <th>11121</th>\n",
       "      <td>voce</td>\n",
       "      <td>9.366594</td>\n",
       "    </tr>\n",
       "    <tr>\n",
       "      <th>...</th>\n",
       "      <td>...</td>\n",
       "      <td>...</td>\n",
       "    </tr>\n",
       "    <tr>\n",
       "      <th>10828</th>\n",
       "      <td>uso</td>\n",
       "      <td>2.019850</td>\n",
       "    </tr>\n",
       "    <tr>\n",
       "      <th>1593</th>\n",
       "      <td>carreira</td>\n",
       "      <td>2.015195</td>\n",
       "    </tr>\n",
       "    <tr>\n",
       "      <th>5471</th>\n",
       "      <td>implementar</td>\n",
       "      <td>2.012153</td>\n",
       "    </tr>\n",
       "    <tr>\n",
       "      <th>4855</th>\n",
       "      <td>gente</td>\n",
       "      <td>2.010829</td>\n",
       "    </tr>\n",
       "    <tr>\n",
       "      <th>11292</th>\n",
       "      <td>years</td>\n",
       "      <td>2.005093</td>\n",
       "    </tr>\n",
       "  </tbody>\n",
       "</table>\n",
       "<p>304 rows × 2 columns</p>\n",
       "</div>"
      ],
      "text/plain": [
       "            palavra  peso_tfidf\n",
       "2803          dados   35.082074\n",
       "2834           data   19.776989\n",
       "4234    experiencia   12.376740\n",
       "2263   conhecimento    9.824690\n",
       "11121          voce    9.366594\n",
       "...             ...         ...\n",
       "10828           uso    2.019850\n",
       "1593       carreira    2.015195\n",
       "5471    implementar    2.012153\n",
       "4855          gente    2.010829\n",
       "11292         years    2.005093\n",
       "\n",
       "[304 rows x 2 columns]"
      ]
     },
     "execution_count": 20,
     "metadata": {},
     "output_type": "execute_result"
    }
   ],
   "source": [
    "desc_pesos.query(\"peso_tfidf > 2\")"
   ]
  },
  {
   "cell_type": "code",
   "execution_count": 21,
   "id": "825c3135",
   "metadata": {},
   "outputs": [
    {
     "data": {
      "text/html": [
       "<div>\n",
       "<style scoped>\n",
       "    .dataframe tbody tr th:only-of-type {\n",
       "        vertical-align: middle;\n",
       "    }\n",
       "\n",
       "    .dataframe tbody tr th {\n",
       "        vertical-align: top;\n",
       "    }\n",
       "\n",
       "    .dataframe thead th {\n",
       "        text-align: right;\n",
       "    }\n",
       "</style>\n",
       "<table border=\"1\" class=\"dataframe\">\n",
       "  <thead>\n",
       "    <tr style=\"text-align: right;\">\n",
       "      <th></th>\n",
       "      <th>palavra</th>\n",
       "      <th>frequência</th>\n",
       "    </tr>\n",
       "  </thead>\n",
       "  <tbody>\n",
       "    <tr>\n",
       "      <th>2803</th>\n",
       "      <td>dados</td>\n",
       "      <td>1644</td>\n",
       "    </tr>\n",
       "    <tr>\n",
       "      <th>2834</th>\n",
       "      <td>data</td>\n",
       "      <td>1189</td>\n",
       "    </tr>\n",
       "    <tr>\n",
       "      <th>4234</th>\n",
       "      <td>experiencia</td>\n",
       "      <td>526</td>\n",
       "    </tr>\n",
       "    <tr>\n",
       "      <th>2263</th>\n",
       "      <td>conhecimento</td>\n",
       "      <td>417</td>\n",
       "    </tr>\n",
       "    <tr>\n",
       "      <th>11121</th>\n",
       "      <td>voce</td>\n",
       "      <td>388</td>\n",
       "    </tr>\n",
       "    <tr>\n",
       "      <th>...</th>\n",
       "      <td>...</td>\n",
       "      <td>...</td>\n",
       "    </tr>\n",
       "    <tr>\n",
       "      <th>5345</th>\n",
       "      <td>hype</td>\n",
       "      <td>1</td>\n",
       "    </tr>\n",
       "    <tr>\n",
       "      <th>5344</th>\n",
       "      <td>hyderabad</td>\n",
       "      <td>1</td>\n",
       "    </tr>\n",
       "    <tr>\n",
       "      <th>5342</th>\n",
       "      <td>hungry</td>\n",
       "      <td>1</td>\n",
       "    </tr>\n",
       "    <tr>\n",
       "      <th>5341</th>\n",
       "      <td>hunger</td>\n",
       "      <td>1</td>\n",
       "    </tr>\n",
       "    <tr>\n",
       "      <th>11329</th>\n",
       "      <td>ªhr</td>\n",
       "      <td>1</td>\n",
       "    </tr>\n",
       "  </tbody>\n",
       "</table>\n",
       "<p>11330 rows × 2 columns</p>\n",
       "</div>"
      ],
      "text/plain": [
       "            palavra  frequência\n",
       "2803          dados        1644\n",
       "2834           data        1189\n",
       "4234    experiencia         526\n",
       "2263   conhecimento         417\n",
       "11121          voce         388\n",
       "...             ...         ...\n",
       "5345           hype           1\n",
       "5344      hyderabad           1\n",
       "5342         hungry           1\n",
       "5341         hunger           1\n",
       "11329           ªhr           1\n",
       "\n",
       "[11330 rows x 2 columns]"
      ]
     },
     "execution_count": 21,
     "metadata": {},
     "output_type": "execute_result"
    }
   ],
   "source": [
    "# Bag of words\n",
    "vectorizer_bag = CountVectorizer()\n",
    "X = vectorizer_bag.fit_transform(corpus)\n",
    "\n",
    "palavras = vectorizer_bag.get_feature_names_out()\n",
    "contagens = X.toarray().sum(axis = 0)\n",
    "\n",
    "desc_bag = pd.DataFrame({'palavra': palavras, 'frequência': contagens}).sort_values('frequência', ascending=False)\n",
    "desc_bag"
   ]
  },
  {
   "cell_type": "code",
   "execution_count": 22,
   "id": "f72ee32e",
   "metadata": {},
   "outputs": [],
   "source": [
    "# Using Ollama to extrat job atributes \n",
    "\n",
    "OLLAMA_MODEL = 'llama3.2:latest'\n",
    "\n",
    "def extrair_requisitos(texto_vaga):\n",
    "    prompt = f\"\"\"\n",
    "A partir da descrição da vaga abaixo, retorne um JSON com os seguintes campos:\n",
    "\n",
    "- \"tecnicas\": lista das habilidades técnicas\n",
    "- \"comportamentais\": lista das habilidades comportamentais\n",
    "- \"nivel\": \"junior\", \"pleno\" ou \"senior\"\n",
    "\n",
    "Descrição:\n",
    "\\\"\\\"\\\"{texto_vaga}\\\"\\\"\\\"\n",
    "\n",
    "Responda apenas com JSON válido.\n",
    "\"\"\"\n",
    "\n",
    "    response = requests.post(\n",
    "        \"http://localhost:11434/api/generate\",\n",
    "        json={\"model\": OLLAMA_MODEL, \"prompt\": prompt, \"stream\": False}\n",
    "    )\n",
    "\n",
    "    if response.status_code == 200:\n",
    "        raw = response.json()[\"response\"].strip()\n",
    "        try:\n",
    "            return json.loads(raw)\n",
    "        except json.JSONDecodeError:\n",
    "            print(\"⚠️ Erro ao interpretar como JSON. Conteúdo bruto:\")\n",
    "            print(raw)\n",
    "            return None\n",
    "    else:\n",
    "        print(\"⚠️ Erro na requisição:\", response.status_code)\n",
    "        return None"
   ]
  },
  {
   "cell_type": "code",
   "execution_count": 23,
   "id": "c6f5a8ee",
   "metadata": {},
   "outputs": [
    {
     "data": {
      "text/html": [
       "<div>\n",
       "<style scoped>\n",
       "    .dataframe tbody tr th:only-of-type {\n",
       "        vertical-align: middle;\n",
       "    }\n",
       "\n",
       "    .dataframe tbody tr th {\n",
       "        vertical-align: top;\n",
       "    }\n",
       "\n",
       "    .dataframe thead th {\n",
       "        text-align: right;\n",
       "    }\n",
       "</style>\n",
       "<table border=\"1\" class=\"dataframe\">\n",
       "  <thead>\n",
       "    <tr style=\"text-align: right;\">\n",
       "      <th></th>\n",
       "      <th>id</th>\n",
       "      <th>dateLastActivity</th>\n",
       "      <th>desc</th>\n",
       "      <th>due</th>\n",
       "      <th>name</th>\n",
       "      <th>label_names</th>\n",
       "      <th>desc_lang</th>\n",
       "      <th>desc_clean</th>\n",
       "      <th>name_clean</th>\n",
       "      <th>vaga</th>\n",
       "      <th>empresa</th>\n",
       "      <th>fonte</th>\n",
       "      <th>vaga_standard</th>\n",
       "      <th>fonte_standard</th>\n",
       "    </tr>\n",
       "  </thead>\n",
       "  <tbody>\n",
       "    <tr>\n",
       "      <th>0</th>\n",
       "      <td>684c1005b986bba107a1917a</td>\n",
       "      <td>2025-06-13T11:48:36.998Z</td>\n",
       "      <td>about the job job description o time de analy...</td>\n",
       "      <td>2025-07-25T11:44:00.000Z</td>\n",
       "      <td>Cientista de Dados Pleno - Porto - LinkedIn</td>\n",
       "      <td>['Enviado']</td>\n",
       "      <td>portuguese</td>\n",
       "      <td>time analytics insights busca profissional hab...</td>\n",
       "      <td>cientista de dados pleno - porto - linkedin</td>\n",
       "      <td>cientista de dados</td>\n",
       "      <td>porto</td>\n",
       "      <td>linkedin</td>\n",
       "      <td>cientista de dados</td>\n",
       "      <td>linkedin</td>\n",
       "    </tr>\n",
       "    <tr>\n",
       "      <th>1</th>\n",
       "      <td>684c138a5be4f9abe78529e7</td>\n",
       "      <td>2025-06-13T12:03:36.307Z</td>\n",
       "      <td>about the job deseja construir um futuro sóli...</td>\n",
       "      <td>2025-07-25T11:44:00.000Z</td>\n",
       "      <td>Analist ade Dados - Cargill - LinkedIn</td>\n",
       "      <td>['Enviado']</td>\n",
       "      <td>portuguese</td>\n",
       "      <td>deseja construir futuro solido sustentavel des...</td>\n",
       "      <td>analist ade dados - cargill - linkedin</td>\n",
       "      <td>analist ade dados</td>\n",
       "      <td>cargill</td>\n",
       "      <td>linkedin</td>\n",
       "      <td>analista de dados</td>\n",
       "      <td>linkedin</td>\n",
       "    </tr>\n",
       "  </tbody>\n",
       "</table>\n",
       "</div>"
      ],
      "text/plain": [
       "                         id          dateLastActivity  \\\n",
       "0  684c1005b986bba107a1917a  2025-06-13T11:48:36.998Z   \n",
       "1  684c138a5be4f9abe78529e7  2025-06-13T12:03:36.307Z   \n",
       "\n",
       "                                                desc  \\\n",
       "0   about the job job description o time de analy...   \n",
       "1   about the job deseja construir um futuro sóli...   \n",
       "\n",
       "                        due                                         name  \\\n",
       "0  2025-07-25T11:44:00.000Z  Cientista de Dados Pleno - Porto - LinkedIn   \n",
       "1  2025-07-25T11:44:00.000Z       Analist ade Dados - Cargill - LinkedIn   \n",
       "\n",
       "   label_names   desc_lang                                         desc_clean  \\\n",
       "0  ['Enviado']  portuguese  time analytics insights busca profissional hab...   \n",
       "1  ['Enviado']  portuguese  deseja construir futuro solido sustentavel des...   \n",
       "\n",
       "                                    name_clean                vaga    empresa  \\\n",
       "0  cientista de dados pleno - porto - linkedin  cientista de dados     porto    \n",
       "1       analist ade dados - cargill - linkedin   analist ade dados   cargill    \n",
       "\n",
       "       fonte       vaga_standard fonte_standard  \n",
       "0   linkedin  cientista de dados       linkedin  \n",
       "1   linkedin   analista de dados       linkedin  "
      ]
     },
     "execution_count": 23,
     "metadata": {},
     "output_type": "execute_result"
    }
   ],
   "source": [
    "cards.head(2)"
   ]
  },
  {
   "cell_type": "code",
   "execution_count": null,
   "id": "c58e2759",
   "metadata": {},
   "outputs": [],
   "source": [
    "# Suponha que seu DataFrame é `cards` com colunas: id_vaga, desc_clean\n",
    "\n",
    "resultados = []\n",
    "\n",
    "for _, row in cards.iterrows():\n",
    "    requisitos = extrair_requisitos(row['desc_clean'])\n",
    "    if requisitos:\n",
    "        nivel = requisitos.get('nivel')\n",
    "        for tipo, habilidades in [('tecnica', requisitos.get('tecnicas', [])),\n",
    "                                  ('comportamental', requisitos.get('comportamentais', []))]:\n",
    "            for habilidade in habilidades:\n",
    "                resultados.append({\n",
    "                    'id_vaga': row['id'],\n",
    "                    'tipo_habilidade': tipo,\n",
    "                    'habilidade': habilidade\n",
    "                })\n",
    "        # adicionar o nível ao DataFrame principal\n",
    "        cards.loc[cards['id'] == row['id'], 'nivel_estimado'] = nivel\n"
   ]
  },
  {
   "cell_type": "code",
   "execution_count": 126,
   "id": "9e7e8858",
   "metadata": {},
   "outputs": [
    {
     "data": {
      "text/plain": [
       "'time analytics insights busca profissional habilidades analise dados interpretacao metricas geracao insights estrategicos principal responsabilidade transformar grandes volumes dados informacoes objetivas identificando padroes tendencias oportunidades melhoria tambem papel equipe desenvolver manter dashboards relatorios analises preditivas sempre buscando aprimorar eficiencia responsibilities and assignments criacao relatorios dashboards personalizados times estrategicos operacionais area negocio porto bank proporcionando suporte compreensao metricas jornada processo coleta enriquecimento estruturacao bases dados utilizadas construcao relatorios utilizando sistemas disponiveis companhia atraves programacao interpretacao resultados analises geracao insights valiosos comunicando descobertas atraves apresentacoes dashboards relatorios maneira clara compreensivel todos stakeholders acompanhamento continuo relatorios existentes assegurar qualidade informacoes manutencao frequencia adequada atualizacao transformar grandes volumes dados informacoes estrategicas principais desafios funcao analista devera compreender dores areas atendidas propor solucoes visualizacao atendam forma eficaz necessidades negocio esperase tambem capacidade sintese consiga traduzir analises complexas entregas objetivas claras impacto direto resultados requirements and qualifications ensino superior estatistica matematica aplicada economia ciencia computacao tecnologia fisica areas correlatas conhecimento intermediario programacao ex sql python r pyspark spark conhecimento criacao dashboard preferencialmente power bi experiencia analitica indicadores resultados conhecimento excel desejavel conhecimento produtos financeiros additional information informacoes adicionais vale alimentacao refeicao vr va sao flexiveis voce atenda necessidades defina melhor maneira utilizalos valetransporte encontrarmos porto servicos transporte conforto seguranca trajeto ate escritorio disponibilizamos vans principais estacoes acesso porto luz barra funda santa cecilia julio prestes plano saude odontologico seguro vida voce possa cuidar tambem cuidar dependentes participacao lucros plr pois sabemos so vamos crescer crescermos juntos porto acao programa complementar plr disponibilizando anualmente ate porcentagem valor salario acoes porto pais maes filhos auxilio creche baba cuidar bem precioso previdencia privada portoprev voce garantir futuro tranquilo gympass voce possa exercitar cuidar saude fisica diversas academias onde bolsa estudos voce comecar graduacao sonha fazer segunda faculdade posgraduacao cursos idiomas subsidio cursos ingles espanhol programa saude integral serie beneficios iniciativas apoiar encontrar equilibrio forma integral atraves tres pilares saude mental saude fisica saude financeira desconto produtos servicos voce possa desfrutar produtos servicos deste ecossistema gigante process stages step registrationregistration step triagemtriagem step testecasetestecase step entrevista rhentrevista rh step entrevista gestoraentrevista gestora step hiringhiring porto voce importa porto seguradora ecossistema gigante utiliza tecnologia criar solucoes atraves quatro verticais negocio porto bank porto saude porto seguro porto servico reputacao reconhecimento conquistados longo decadas reforcam tamanho porto empresa referencia negocios feita pessoas aqui bate peito mil colaboradores orgulho fazer parte organizacao solida etica transforma sonhos realidades fantasticas milhoes clientes sao sucursais escritorios regionais todo brasil aprendizado faz parte dna aqui voce tera incentivos ferramentas gente boa voce aprender crescer cada dia ambiente acolhimento seguranca onde cada possa orgulhar promovendo espaco respeito vivendo forma integral bemestar empresa genuinamente humana diversidade inclusao porto aqui porto valorizamos diversidade acreditamos time plural imprescindivel desenvolvimento todo negocio sociedade cada pessoa pois entendemos cada individuo unico construcao ambiente inovador inclusivo juntos trabalhamos diariamente construirmos espaco seguro livre acolhedor pluralidade respeito incentivamos fortemente inscricao mulheres pessoas negras indigenas pessoas deficiencia pessoas lgbtqia todas vagas'"
      ]
     },
     "execution_count": 126,
     "metadata": {},
     "output_type": "execute_result"
    }
   ],
   "source": [
    "cards['desc_clean'][0]"
   ]
  },
  {
   "cell_type": "code",
   "execution_count": 151,
   "id": "09e90eec",
   "metadata": {},
   "outputs": [
    {
     "data": {
      "text/html": [
       "<div>\n",
       "<style scoped>\n",
       "    .dataframe tbody tr th:only-of-type {\n",
       "        vertical-align: middle;\n",
       "    }\n",
       "\n",
       "    .dataframe tbody tr th {\n",
       "        vertical-align: top;\n",
       "    }\n",
       "\n",
       "    .dataframe thead th {\n",
       "        text-align: right;\n",
       "    }\n",
       "</style>\n",
       "<table border=\"1\" class=\"dataframe\">\n",
       "  <thead>\n",
       "    <tr style=\"text-align: right;\">\n",
       "      <th></th>\n",
       "      <th>id_vaga</th>\n",
       "      <th>tipo_habilidade</th>\n",
       "      <th>habilidade</th>\n",
       "    </tr>\n",
       "  </thead>\n",
       "  <tbody>\n",
       "    <tr>\n",
       "      <th>0</th>\n",
       "      <td>68513c86c8825584ffc53bd9</td>\n",
       "      <td>tecnica</td>\n",
       "      <td>SQL</td>\n",
       "    </tr>\n",
       "    <tr>\n",
       "      <th>1</th>\n",
       "      <td>68513c86c8825584ffc53bd9</td>\n",
       "      <td>tecnica</td>\n",
       "      <td>Excel</td>\n",
       "    </tr>\n",
       "  </tbody>\n",
       "</table>\n",
       "</div>"
      ],
      "text/plain": [
       "                    id_vaga tipo_habilidade habilidade\n",
       "0  68513c86c8825584ffc53bd9         tecnica        SQL\n",
       "1  68513c86c8825584ffc53bd9         tecnica      Excel"
      ]
     },
     "execution_count": 151,
     "metadata": {},
     "output_type": "execute_result"
    }
   ],
   "source": [
    "resultados\n",
    "resultados_df = pd.json_normalize(resultados)\n",
    "resultados_df.head(2)"
   ]
  },
  {
   "cell_type": "code",
   "execution_count": 153,
   "id": "d848aa18",
   "metadata": {},
   "outputs": [],
   "source": [
    "resultados_df.to_csv(\"vaga_requisitos.csv\", index = False)"
   ]
  },
  {
   "cell_type": "code",
   "execution_count": 18,
   "id": "d63c6fab",
   "metadata": {},
   "outputs": [],
   "source": [
    "cards.to_csv(\"cards_clean.csv\", index = False)"
   ]
  },
  {
   "cell_type": "markdown",
   "id": "a4326aba",
   "metadata": {},
   "source": [
    "Get my curriculum in PDf and compare to th ejob positions"
   ]
  },
  {
   "cell_type": "code",
   "execution_count": 2,
   "id": "3d89972e",
   "metadata": {},
   "outputs": [
    {
     "data": {
      "text/html": [
       "<div>\n",
       "<style scoped>\n",
       "    .dataframe tbody tr th:only-of-type {\n",
       "        vertical-align: middle;\n",
       "    }\n",
       "\n",
       "    .dataframe tbody tr th {\n",
       "        vertical-align: top;\n",
       "    }\n",
       "\n",
       "    .dataframe thead th {\n",
       "        text-align: right;\n",
       "    }\n",
       "</style>\n",
       "<table border=\"1\" class=\"dataframe\">\n",
       "  <thead>\n",
       "    <tr style=\"text-align: right;\">\n",
       "      <th></th>\n",
       "      <th>id</th>\n",
       "      <th>dateLastActivity</th>\n",
       "      <th>desc</th>\n",
       "      <th>due</th>\n",
       "      <th>name</th>\n",
       "      <th>label_names</th>\n",
       "      <th>desc_lang</th>\n",
       "      <th>desc_clean</th>\n",
       "      <th>name_clean</th>\n",
       "      <th>vaga</th>\n",
       "      <th>empresa</th>\n",
       "      <th>fonte</th>\n",
       "      <th>vaga_standard</th>\n",
       "      <th>fonte_standard</th>\n",
       "    </tr>\n",
       "  </thead>\n",
       "  <tbody>\n",
       "    <tr>\n",
       "      <th>0</th>\n",
       "      <td>684c1005b986bba107a1917a</td>\n",
       "      <td>2025-06-13T11:48:36.998Z</td>\n",
       "      <td>about the job job description o time de analy...</td>\n",
       "      <td>2025-07-25T11:44:00.000Z</td>\n",
       "      <td>Cientista de Dados Pleno - Porto - LinkedIn</td>\n",
       "      <td>['Enviado']</td>\n",
       "      <td>portuguese</td>\n",
       "      <td>time analytics insights busca profissional hab...</td>\n",
       "      <td>cientista de dados pleno - porto - linkedin</td>\n",
       "      <td>cientista de dados</td>\n",
       "      <td>porto</td>\n",
       "      <td>linkedin</td>\n",
       "      <td>cientista de dados</td>\n",
       "      <td>linkedin</td>\n",
       "    </tr>\n",
       "    <tr>\n",
       "      <th>1</th>\n",
       "      <td>684c138a5be4f9abe78529e7</td>\n",
       "      <td>2025-06-13T12:03:36.307Z</td>\n",
       "      <td>about the job deseja construir um futuro sóli...</td>\n",
       "      <td>2025-07-25T11:44:00.000Z</td>\n",
       "      <td>Analist ade Dados - Cargill - LinkedIn</td>\n",
       "      <td>['Enviado']</td>\n",
       "      <td>portuguese</td>\n",
       "      <td>deseja construir futuro solido sustentavel des...</td>\n",
       "      <td>analist ade dados - cargill - linkedin</td>\n",
       "      <td>analist ade dados</td>\n",
       "      <td>cargill</td>\n",
       "      <td>linkedin</td>\n",
       "      <td>analista de dados</td>\n",
       "      <td>linkedin</td>\n",
       "    </tr>\n",
       "  </tbody>\n",
       "</table>\n",
       "</div>"
      ],
      "text/plain": [
       "                         id          dateLastActivity  \\\n",
       "0  684c1005b986bba107a1917a  2025-06-13T11:48:36.998Z   \n",
       "1  684c138a5be4f9abe78529e7  2025-06-13T12:03:36.307Z   \n",
       "\n",
       "                                                desc  \\\n",
       "0   about the job job description o time de analy...   \n",
       "1   about the job deseja construir um futuro sóli...   \n",
       "\n",
       "                        due                                         name  \\\n",
       "0  2025-07-25T11:44:00.000Z  Cientista de Dados Pleno - Porto - LinkedIn   \n",
       "1  2025-07-25T11:44:00.000Z       Analist ade Dados - Cargill - LinkedIn   \n",
       "\n",
       "   label_names   desc_lang                                         desc_clean  \\\n",
       "0  ['Enviado']  portuguese  time analytics insights busca profissional hab...   \n",
       "1  ['Enviado']  portuguese  deseja construir futuro solido sustentavel des...   \n",
       "\n",
       "                                    name_clean                vaga    empresa  \\\n",
       "0  cientista de dados pleno - porto - linkedin  cientista de dados     porto    \n",
       "1       analist ade dados - cargill - linkedin   analist ade dados   cargill    \n",
       "\n",
       "       fonte       vaga_standard fonte_standard  \n",
       "0   linkedin  cientista de dados       linkedin  \n",
       "1   linkedin   analista de dados       linkedin  "
      ]
     },
     "execution_count": 2,
     "metadata": {},
     "output_type": "execute_result"
    }
   ],
   "source": [
    "cards = pd.read_csv(\"cards_clean.csv\")\n",
    "cards.head(2)"
   ]
  },
  {
   "cell_type": "code",
   "execution_count": 3,
   "id": "dc6ed0c5",
   "metadata": {},
   "outputs": [],
   "source": [
    "def get_text_pdf(file):\n",
    "    doc = fitz.open(file)\n",
    "    texto_en = \"\" \n",
    "    for page in doc:\n",
    "        texto_en += page.get_text()\n",
    "    return texto_en"
   ]
  },
  {
   "cell_type": "code",
   "execution_count": 4,
   "id": "64199834",
   "metadata": {},
   "outputs": [],
   "source": [
    "cv_en = get_text_pdf(\"ESMB170725.pdf\")\n",
    "cv_pt = get_text_pdf(\"Erika Borelli CV220725.pdf\")"
   ]
  },
  {
   "cell_type": "code",
   "execution_count": 6,
   "id": "ad7cf67e",
   "metadata": {},
   "outputs": [],
   "source": [
    "OLLAMA_MODEL = 'llama3.2:latest'\n",
    "BATCH_SIZE = 20"
   ]
  },
  {
   "cell_type": "code",
   "execution_count": 7,
   "id": "adb9d070",
   "metadata": {},
   "outputs": [],
   "source": [
    "# Salvar raw outputs\n",
    "def salvar_raw_batch(batch_respostas, nome_arquivo=\"respostas_raw.jsonl\"):\n",
    "    with open(nome_arquivo, \"a\", encoding=\"utf-8\") as f:\n",
    "        for item in batch_respostas:\n",
    "            f.write(json.dumps(item, ensure_ascii=False) + \"\\n\")"
   ]
  },
  {
   "cell_type": "code",
   "execution_count": 8,
   "id": "fa00cf99",
   "metadata": {},
   "outputs": [],
   "source": [
    "\n",
    "def comparar_vaga_com_cv(descricao_vaga, texto_cv):\n",
    "    prompt = f\"\"\"\n",
    "Você é um ATS (Applicant Tracking System) avaliando o currículo da candidata em relação à vaga descrita.\n",
    "\n",
    "Não adicione explicações ou marcações de código. Apenas retorne JSON puro e válido, com os seguintes campos:\n",
    "\n",
    "- \"gaps\": uma lista de objetos, cada um contendo:\n",
    "    - \"gap_tag\": um identificador padronizado (snake_case) para o gap.\n",
    "    - \"descricao\": frase curta explicando por que este é um ponto de melhoria.\n",
    "    - \"tipo\": categoria do gap. Pode ser: \"tecnico\", \"idioma\", \"soft_skill\", \"experiencia\", ou \"outro\".\n",
    "    - \"origem\": se esse requisito estava como \"obrigatorio\", \"desejavel\", \"implicito\" ou \"nao_mencionado\" na descrição da vaga.\n",
    "- \"score_similaridade\": um número de 0 a 100 indicando a compatibilidade geral com a vaga.\n",
    "- \"selecionar_para_proxima_etapa\": booleano (true ou false) indicando se a candidata deveria ir para a próxima fase.\n",
    "\n",
    "Descrição da vaga:\n",
    "\\\"\\\"\\\"{descricao_vaga}\\\"\\\"\\\" \n",
    "\n",
    "Currículo:\n",
    "\\\"\\\"\\\"{texto_cv}\\\"\\\"\\\"\n",
    "\"\"\"\n",
    "\n",
    "    try:\n",
    "        response = requests.post(\n",
    "            \"http://localhost:11434/api/generate\",\n",
    "            json={\"model\": OLLAMA_MODEL, \"prompt\": prompt, \"stream\": False}\n",
    "        )\n",
    "        if response.status_code != 200:\n",
    "            return {\"erro\": f\"HTTP {response.status_code}\", \"resposta\": response.text}\n",
    "\n",
    "        raw_text = response.json().get(\"response\", \"\").strip()\n",
    "        return {\"resposta\": raw_text}\n",
    "\n",
    "    except Exception as e:\n",
    "        return {\"erro\": str(e), \"resposta\": None}\n"
   ]
  },
  {
   "cell_type": "code",
   "execution_count": null,
   "id": "6730b82b",
   "metadata": {},
   "outputs": [
    {
     "name": "stderr",
     "output_type": "stream",
     "text": [
      " 16%|█▋        | 53/323 [3:25:55<16:37:48, 221.74s/it]"
     ]
    }
   ],
   "source": [
    "# respostas_brutas = []\n",
    "\n",
    "# for i, (_, row) in enumerate(tqdm(cards.iterrows(), total=cards.shape[0])):\n",
    "#     if not pd.isna(row.get('score_similaridade')):\n",
    "#         continue\n",
    "\n",
    "#     cv_file = cv_en if row['desc_lang'] == 'english' else cv_pt\n",
    "\n",
    "#     try:\n",
    "#         resultado_llm = comparar_vaga_com_cv(row['desc_clean'], cv_file)\n",
    "\n",
    "#         respostas_brutas.append({\n",
    "#             \"id_vaga\": row['id'],\n",
    "#             \"resposta\": resultado_llm\n",
    "#         })\n",
    "\n",
    "#     except Exception as e:\n",
    "#         respostas_brutas.append({\n",
    "#             \"id_vaga\": row['id'],\n",
    "#             \"resposta\": f\"[Erro inesperado] {str(e)}\"\n",
    "#         })\n"
   ]
  },
  {
   "cell_type": "code",
   "execution_count": 9,
   "id": "21c1a500",
   "metadata": {},
   "outputs": [
    {
     "name": "stderr",
     "output_type": "stream",
     "text": [
      "100%|██████████| 17/17 [15:24:53<00:00, 3264.34s/it]  "
     ]
    },
    {
     "name": "stdout",
     "output_type": "stream",
     "text": [
      "✅ Fim da coleta de respostas.\n"
     ]
    },
    {
     "name": "stderr",
     "output_type": "stream",
     "text": [
      "\n"
     ]
    }
   ],
   "source": [
    "# Lógica em batches\n",
    "for i in tqdm(range(0, len(cards), BATCH_SIZE)):\n",
    "    batch = cards.iloc[i:i+BATCH_SIZE]\n",
    "    respostas_batch = []\n",
    "\n",
    "    for _, row in batch.iterrows():\n",
    "        cv = cv_en if row[\"desc_lang\"] == \"english\" else cv_pt\n",
    "        resultado = comparar_vaga_com_cv(row[\"desc_clean\"], cv)\n",
    "\n",
    "        resultado_final = {\n",
    "            \"id_vaga\": row[\"id\"],\n",
    "            \"resposta_raw\": resultado.get(\"resposta\"),\n",
    "            \"erro\": resultado.get(\"erro\", None)\n",
    "        }\n",
    "\n",
    "        respostas_batch.append(resultado_final)\n",
    "\n",
    "    salvar_raw_batch(respostas_batch)\n",
    "\n",
    "print(\"✅ Fim da coleta de respostas.\")"
   ]
  },
  {
   "cell_type": "code",
   "execution_count": 10,
   "id": "b38d2a11",
   "metadata": {},
   "outputs": [
    {
     "data": {
      "text/plain": [
       "[{'id_vaga': '6878c8cfa0b87d625b54669e',\n",
       "  'resposta_raw': '{\\n    \"gaps\": [\\n        {\\n            \"gap_tag\": \"short-term_experiencia\",\\n            \"descricao\": \"A vaga menciona a experiência em \\'mercado\\' como um requisito importante, mas o currículo da candidata não apresenta nenhuma menção a isso.\",\\n            \"tipo\": \"experiencia\",\\n            \"origem\": \"nao_mencionado\"\\n        },\\n        {\\n            \"gap_tag\": \"tecnico_solid_dados_vizualizacao\",\\n            \"descricao\": \"O currículo da candidata não menciona a habilidade de criar dashboards utilizando Databricks.\",\\n            \"tipo\": \"tecnico\",\\n            \"origem\": \"desejavel\"\\n        },\\n        {\\n            \"gap_tag\": \"certificacao_big_data_analytics\",\\n            \"descricao\": \"A vaga menciona conhecimento em Big Data Analytics, mas o currículo da candidata não apresenta certificação nesse assunto.\",\\n            \"tipo\": \"certificado\",\\n            \"origem\": \"nao_mencionado\"\\n        }\\n    ],\\n    \"score_similaridade\": 70,\\n    \"selecionar_para_proxima_etapa\": true\\n}',\n",
       "  'erro': None},\n",
       " {'id_vaga': '687a2e8fcdc8bd38d7057db6',\n",
       "  'resposta_raw': '{\"gaps\": [{\"gap_tag\": \"experiencia_computacao\", \"descricao\": \"A candidata não mencionou nenhuma experiência em desenvolvimento de software ou linguagens de programação modernas como Java, C++, etc.\", \"tipo\": \"experiencia\", \"origem\": \"desejavel\"}, {\"gap_tag\": \"certificacoes_devops\", \"descricao\": \"A candidata não mencionou certificações em DevOps ou gestão de infraestrutura que seja relevantes para a vaga\", \"tipo\": \"certificações\", \"origem\": \"nao_mencionado\"}], \"score_similaridade\": 80, \"selecionar_para_proxima_etapa\": true}',\n",
       "  'erro': None},\n",
       " {'id_vaga': '68765c69b8985eaf15f5b1d0',\n",
       "  'resposta_raw': '{\\n  \"gaps\": [\\n    {\\n      \"gap_tag\": \" falta_de_experiencia_com_seguranca_governanca\",\\n      \"descricao\": \"A candidata falta experiência em segurança de dados e governança, que é um aspecto importante para essa vaga.\",\\n      \"tipo\": \"outro\",\\n      \"origem\": \"nao_mencionado\"\\n    },\\n    {\\n      \"gap_tag\": \"falta_de_experiencia_com_contratos_quais_atuamos\",\\n      \"descricao\": \"A candidata não mencionou experiência com contratos específicos de setor público junto a empresas estatais, o que é importante para essa vaga.\",\\n      \"tipo\": \"outro\",\\n      \"origem\": \"nao_mencionado\"\\n    },\\n    {\\n      \"gap_tag\": \"niveu_de_formacao\",\\n      \"descricao\": \"A candidata possui pós-graduação em Processamento de Linguagem Natural e IA Generativa, mas não mencionou experiência com certificações relevantes para a vaga.\",\\n      \"tipo\": \"outro\",\\n      \"origem\": \"nao_mencionado\"\\n    },\\n    {\\n      \"gap_tag\": \"falta_de_experiencia_com_power_bi_dax_m_query_dataflows_modelagem_dados\",\\n      \"descricao\": \"A candidata falta experiência com ferramentas de Power BI, DAX, M Query e DataFlows, que são importantes para essa vaga.\",\\n      \"tipo\": \"outro\",\\n      \"origem\": \"nao_mencionado\"\\n    },\\n    {\\n      \"gap_tag\": \"falta_de_experiencia_com_ETL_proceduras_views_etl_power_query_ssis_equivalente_integracoes_apis_fontes_dados_externas\",\\n      \"descricao\": \"A candidata falta experiência com ferramentas de ETL, procedimentos de consultoria de dados, views, Power Query, SSIS e integrações com fontes de dados externas.\",\\n      \"tipo\": \"outro\",\\n      \"origem\": \"nao_mencionado\"\\n    }\\n  ],\\n  \"score_similaridade\": 60,\\n  \"selecionar_para_proxima_etapa\": false\\n}',\n",
       "  'erro': None}]"
      ]
     },
     "execution_count": 10,
     "metadata": {},
     "output_type": "execute_result"
    }
   ],
   "source": [
    "respostas_batch"
   ]
  },
  {
   "cell_type": "code",
   "execution_count": 28,
   "id": "f529c57a",
   "metadata": {},
   "outputs": [],
   "source": [
    "teste = comparar_vaga_com_cv(cards['desc_clean'][1], cv_pt)"
   ]
  },
  {
   "cell_type": "code",
   "execution_count": null,
   "id": "240e5fa7",
   "metadata": {},
   "outputs": [
    {
     "name": "stderr",
     "output_type": "stream",
     "text": [
      " 20%|██        | 1/5 [04:34<18:16, 274.25s/it]"
     ]
    },
    {
     "name": "stdout",
     "output_type": "stream",
     "text": [
      "[Erro] Vaga 684c1005b986bba107a1917a: resposta inválida ou erro detectado.\n",
      "Resposta bruta:\n",
      "[Erro JSON] Expecting value: line 1 column 1 (char 0)\n",
      "Texto recebido:\n",
      "```\n",
      "{\n",
      "  \"gaps\": [\n",
      "    {\n",
      "      \"gap_tag\": \"tecnico\",\n",
      "      \"descricao\": \"A experiência em IA Generativa e NLP é um pouco descrevida, poderia ser mais detalhada.\",\n",
      "      \"tipo\": \"tecnico\",\n",
      "      \"origem\": \"desejavel\"\n",
      "    },\n",
      "    {\n",
      "      \"gap_tag\": \"experiencia\",\n",
      "      \"descricao\": \"A experiência em equipe pode ser melhor documentada.\",\n",
      "      \"tipo\": \"experiencia\",\n",
      "      \"origem\": \"nao_mencionado\"\n",
      "    },\n",
      "    {\n",
      "      \"gap_tag\": \"soft_skill\",\n",
      "      \"descricao\": \"A habilidade de comunicar resultados co\n"
     ]
    },
    {
     "name": "stderr",
     "output_type": "stream",
     "text": [
      " 60%|██████    | 3/5 [11:22<07:12, 216.32s/it]"
     ]
    }
   ],
   "source": [
    "resultados_cv = pd.DataFrame()\n",
    "avaliacoes = []\n",
    "dados = cards.head(5).copy()\n",
    "for i, (_, row) in enumerate(tqdm(dados.iterrows(), total=dados.shape[0])):\n",
    "\n",
    "    # Evita reprocessar se já tem score\n",
    "    if not pd.isna(row.get('score_similaridade')):\n",
    "        continue\n",
    "\n",
    "    # Seleciona CV adequado\n",
    "    cv_file = cv_en if row['desc_lang'] == 'english' else cv_pt\n",
    "\n",
    "    try:\n",
    "        comparacao = comparar_vaga_com_cv(row['desc_clean'], cv_file)\n",
    "\n",
    "        if isinstance(comparacao, str):\n",
    "            print(f\"[Erro] Vaga {row['id']}: resposta inválida ou erro detectado.\")\n",
    "            print(\"Resposta bruta:\")\n",
    "            print(comparacao[:1000])  # Limita o print para não explodir o terminal\n",
    "            continue\n",
    "        \n",
    "        # Se houve erro, ignora\n",
    "        if \"erro\" in comparacao:\n",
    "            print(f\"[Erro] Vaga {row['id']}: {comparacao['erro']}\")\n",
    "            continue\n",
    "\n",
    "        score = comparacao.get('score_similaridade')\n",
    "        selected = comparacao.get('selecionar_para_proxima_etapa')\n",
    "        gaps = comparacao.get('gaps', [])\n",
    "\n",
    "        if isinstance(gaps, list) and gaps:\n",
    "            gaps_df = pd.json_normalize(gaps)\n",
    "            gaps_df['id_vaga'] = row['id']\n",
    "            resultados_cv = pd.concat([resultados_cv, gaps_df], ignore_index=True)\n",
    "\n",
    "        avaliacoes.append({\n",
    "            'id': row['id'],\n",
    "            'score_similaridade': score,\n",
    "            'selecionar_para_proxima_etapa': selected\n",
    "        })\n",
    "\n",
    "        # Salva progresso a cada 10 interações\n",
    "        if i % 10 == 0:\n",
    "            resultados_cv.to_csv(\"gaps_parciais.csv\", index=False)\n",
    "            pd.DataFrame(avaliacoes).to_csv(\"avaliacoes_parciais.csv\", index=False)\n",
    "\n",
    "    except Exception as e:\n",
    "        print(f\"[Exception] Vaga {row['id']}: {e}\")\n",
    "        continue\n"
   ]
  },
  {
   "cell_type": "code",
   "execution_count": 40,
   "id": "37267124",
   "metadata": {},
   "outputs": [
    {
     "data": {
      "text/html": [
       "<div>\n",
       "<style scoped>\n",
       "    .dataframe tbody tr th:only-of-type {\n",
       "        vertical-align: middle;\n",
       "    }\n",
       "\n",
       "    .dataframe tbody tr th {\n",
       "        vertical-align: top;\n",
       "    }\n",
       "\n",
       "    .dataframe thead th {\n",
       "        text-align: right;\n",
       "    }\n",
       "</style>\n",
       "<table border=\"1\" class=\"dataframe\">\n",
       "  <thead>\n",
       "    <tr style=\"text-align: right;\">\n",
       "      <th></th>\n",
       "      <th>gap_tag</th>\n",
       "      <th>descricao</th>\n",
       "      <th>tipo</th>\n",
       "      <th>id_vaga</th>\n",
       "    </tr>\n",
       "  </thead>\n",
       "  <tbody>\n",
       "    <tr>\n",
       "      <th>0</th>\n",
       "      <td>tecnico</td>\n",
       "      <td>Falta de mão-de-obra especializada em Machine ...</td>\n",
       "      <td>tecnico</td>\n",
       "      <td>684c1005b986bba107a1917a</td>\n",
       "    </tr>\n",
       "    <tr>\n",
       "      <th>1</th>\n",
       "      <td>outro</td>\n",
       "      <td>A falta de informações sobre a experiência tra...</td>\n",
       "      <td>outro</td>\n",
       "      <td>684c1005b986bba107a1917a</td>\n",
       "    </tr>\n",
       "  </tbody>\n",
       "</table>\n",
       "</div>"
      ],
      "text/plain": [
       "   gap_tag                                          descricao     tipo  \\\n",
       "0  tecnico  Falta de mão-de-obra especializada em Machine ...  tecnico   \n",
       "1    outro  A falta de informações sobre a experiência tra...    outro   \n",
       "\n",
       "                    id_vaga  \n",
       "0  684c1005b986bba107a1917a  \n",
       "1  684c1005b986bba107a1917a  "
      ]
     },
     "execution_count": 40,
     "metadata": {},
     "output_type": "execute_result"
    }
   ],
   "source": [
    "resultados_cv"
   ]
  },
  {
   "cell_type": "code",
   "execution_count": 41,
   "id": "c1c3d6c9",
   "metadata": {},
   "outputs": [
    {
     "data": {
      "text/html": [
       "<div>\n",
       "<style scoped>\n",
       "    .dataframe tbody tr th:only-of-type {\n",
       "        vertical-align: middle;\n",
       "    }\n",
       "\n",
       "    .dataframe tbody tr th {\n",
       "        vertical-align: top;\n",
       "    }\n",
       "\n",
       "    .dataframe thead th {\n",
       "        text-align: right;\n",
       "    }\n",
       "</style>\n",
       "<table border=\"1\" class=\"dataframe\">\n",
       "  <thead>\n",
       "    <tr style=\"text-align: right;\">\n",
       "      <th></th>\n",
       "      <th>id</th>\n",
       "      <th>dateLastActivity</th>\n",
       "      <th>desc</th>\n",
       "      <th>due</th>\n",
       "      <th>name</th>\n",
       "      <th>label_names</th>\n",
       "      <th>desc_lang</th>\n",
       "      <th>desc_clean</th>\n",
       "      <th>name_clean</th>\n",
       "      <th>vaga</th>\n",
       "      <th>empresa</th>\n",
       "      <th>fonte</th>\n",
       "      <th>vaga_standard</th>\n",
       "      <th>fonte_standard</th>\n",
       "      <th>score_similaridade</th>\n",
       "      <th>selecionar_para_proxima_etapa</th>\n",
       "    </tr>\n",
       "  </thead>\n",
       "  <tbody>\n",
       "    <tr>\n",
       "      <th>0</th>\n",
       "      <td>684c1005b986bba107a1917a</td>\n",
       "      <td>2025-06-13T11:48:36.998Z</td>\n",
       "      <td>about the job job description o time de analy...</td>\n",
       "      <td>2025-07-25T11:44:00.000Z</td>\n",
       "      <td>Cientista de Dados Pleno - Porto - LinkedIn</td>\n",
       "      <td>['Enviado']</td>\n",
       "      <td>portuguese</td>\n",
       "      <td>time analytics insights busca profissional hab...</td>\n",
       "      <td>cientista de dados pleno - porto - linkedin</td>\n",
       "      <td>cientista de dados</td>\n",
       "      <td>porto</td>\n",
       "      <td>linkedin</td>\n",
       "      <td>cientista de dados</td>\n",
       "      <td>linkedin</td>\n",
       "      <td>80.0</td>\n",
       "      <td>True</td>\n",
       "    </tr>\n",
       "    <tr>\n",
       "      <th>1</th>\n",
       "      <td>684c138a5be4f9abe78529e7</td>\n",
       "      <td>2025-06-13T12:03:36.307Z</td>\n",
       "      <td>about the job deseja construir um futuro sóli...</td>\n",
       "      <td>2025-07-25T11:44:00.000Z</td>\n",
       "      <td>Analist ade Dados - Cargill - LinkedIn</td>\n",
       "      <td>['Enviado']</td>\n",
       "      <td>portuguese</td>\n",
       "      <td>deseja construir futuro solido sustentavel des...</td>\n",
       "      <td>analist ade dados - cargill - linkedin</td>\n",
       "      <td>analist ade dados</td>\n",
       "      <td>cargill</td>\n",
       "      <td>linkedin</td>\n",
       "      <td>analista de dados</td>\n",
       "      <td>linkedin</td>\n",
       "      <td>NaN</td>\n",
       "      <td>NaN</td>\n",
       "    </tr>\n",
       "  </tbody>\n",
       "</table>\n",
       "</div>"
      ],
      "text/plain": [
       "                         id          dateLastActivity  \\\n",
       "0  684c1005b986bba107a1917a  2025-06-13T11:48:36.998Z   \n",
       "1  684c138a5be4f9abe78529e7  2025-06-13T12:03:36.307Z   \n",
       "\n",
       "                                                desc  \\\n",
       "0   about the job job description o time de analy...   \n",
       "1   about the job deseja construir um futuro sóli...   \n",
       "\n",
       "                        due                                         name  \\\n",
       "0  2025-07-25T11:44:00.000Z  Cientista de Dados Pleno - Porto - LinkedIn   \n",
       "1  2025-07-25T11:44:00.000Z       Analist ade Dados - Cargill - LinkedIn   \n",
       "\n",
       "   label_names   desc_lang                                         desc_clean  \\\n",
       "0  ['Enviado']  portuguese  time analytics insights busca profissional hab...   \n",
       "1  ['Enviado']  portuguese  deseja construir futuro solido sustentavel des...   \n",
       "\n",
       "                                    name_clean                vaga    empresa  \\\n",
       "0  cientista de dados pleno - porto - linkedin  cientista de dados     porto    \n",
       "1       analist ade dados - cargill - linkedin   analist ade dados   cargill    \n",
       "\n",
       "       fonte       vaga_standard fonte_standard  score_similaridade  \\\n",
       "0   linkedin  cientista de dados       linkedin                80.0   \n",
       "1   linkedin   analista de dados       linkedin                 NaN   \n",
       "\n",
       "  selecionar_para_proxima_etapa  \n",
       "0                          True  \n",
       "1                           NaN  "
      ]
     },
     "execution_count": 41,
     "metadata": {},
     "output_type": "execute_result"
    }
   ],
   "source": [
    "\n",
    "cards.head(2)"
   ]
  },
  {
   "cell_type": "code",
   "execution_count": 39,
   "id": "f305d82f",
   "metadata": {},
   "outputs": [],
   "source": [
    "\n",
    "comparacao = comparar_vaga_com_cv(cards['desc_clean'][0], cv_pt)"
   ]
  },
  {
   "cell_type": "code",
   "execution_count": 41,
   "id": "a68b2252",
   "metadata": {},
   "outputs": [
    {
     "name": "stdout",
     "output_type": "stream",
     "text": [
      "{\n",
      "  \"pontos_fortes\": [\n",
      "    \"Análise de dados estatísticos com Python e R\",\n",
      "    \"Experiência em desenvolvimento de dashboards interativos\",\n",
      "    \"Conhecimento em machine learning com Python e Power BI\",\n",
      "    \"Facilidade em comunicar resultados complexos a públicos diversos\"\n",
      "  ],\n",
      "  \"gaps\": [\n",
      "    {\n",
      "      \"gap_tag\": \"experiência_companhia_bank\",\n",
      "      \"descricao\": \"Falta de experiência em bancos ou setores financeiros\",\n",
      "      \"tipo\": \"outro\"\n",
      "    },\n",
      "    {\n",
      "      \"gap_tag\": \"conhecimento_productos_financeiros\",\n",
      "      \"descricao\": \"Falta de conhecimento em produtos financeiros e instrumentos de crédito\",\n",
      "      \"tipo\": \"outro\"\n",
      "    }\n",
      "  ],\n",
      "  \"score_similaridade\": 80,\n",
      "  \"selecionar_para_proxima_etapa\": true\n",
      "}\n"
     ]
    }
   ],
   "source": [
    "print(comparacao)"
   ]
  }
 ],
 "metadata": {
  "kernelspec": {
   "display_name": "dsa",
   "language": "python",
   "name": "python3"
  },
  "language_info": {
   "codemirror_mode": {
    "name": "ipython",
    "version": 3
   },
   "file_extension": ".py",
   "mimetype": "text/x-python",
   "name": "python",
   "nbconvert_exporter": "python",
   "pygments_lexer": "ipython3",
   "version": "3.12.7"
  }
 },
 "nbformat": 4,
 "nbformat_minor": 5
}
